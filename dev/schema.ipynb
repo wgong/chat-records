{
 "cells": [
  {
   "cell_type": "code",
   "execution_count": 1,
   "id": "95aa7d68",
   "metadata": {},
   "outputs": [],
   "source": [
    "CFG = {\n",
    "    \"DEBUG_FLAG\" : False, # True, # \n",
    "    \"TABLE_CHATS\" : \"t_chats\",\n",
    "    \"TABLE_MODEL\" : \"t_llm_model\",\n",
    "    # \"DB_FILENAME\" : Path(__file__).parent / \"chats.sqlite\",\n",
    "    \"CHAT_BOTS\" : [\"Claude - v2\", \"Bard - beta\"],\n",
    "    \"SUPPORTED_CHAT_BOTS\" : [\"Claude - v2\"],\n",
    "    \"NOISE_WORDS\" : ['Copy code','Copy'],\n",
    "    \"MAX_NUM_ROWS\" : 100000,  # limit number of rows\n",
    "}\n",
    "\n",
    "CFG.update({\n",
    "   \"TABLES\" : \n",
    "        {\n",
    "            CFG[\"TABLE_CHATS\"] : [\n",
    "                'id text NOT NULL',\n",
    "                'session_title text NOT NULL',\n",
    "                'bot_name text NOT NULL',\n",
    "                'seq_num text',\n",
    "                'question text',\n",
    "                'answer text',\n",
    "                'topic text',\n",
    "                'tags text',\n",
    "                'ts text',\n",
    "                'uid text'\n",
    "            ],\n",
    "            CFG[\"TABLE_MODEL\"] : [\n",
    "                'id text NOT NULL',\n",
    "                'name text NOT NULL',\n",
    "                'url text',\n",
    "                'description text',\n",
    "                'tags text',\n",
    "                'ts text',\n",
    "                'uid text'\n",
    "            ],\n",
    "        },\n",
    "})"
   ]
  },
  {
   "cell_type": "code",
   "execution_count": 2,
   "id": "39131710",
   "metadata": {},
   "outputs": [
    {
     "data": {
      "text/plain": [
       "{'DEBUG_FLAG': False,\n",
       " 'TABLE_CHATS': 't_chats',\n",
       " 'TABLE_MODEL': 't_llm_model',\n",
       " 'CHAT_BOTS': ['Claude - v2', 'Bard - beta'],\n",
       " 'SUPPORTED_CHAT_BOTS': ['Claude - v2'],\n",
       " 'NOISE_WORDS': ['Copy code', 'Copy'],\n",
       " 'MAX_NUM_ROWS': 100000,\n",
       " 'TABLES': {'t_chats': ['id text NOT NULL',\n",
       "   'session_title text NOT NULL',\n",
       "   'bot_name text NOT NULL',\n",
       "   'seq_num text',\n",
       "   'question text',\n",
       "   'answer text',\n",
       "   'topic text',\n",
       "   'tags text',\n",
       "   'ts text',\n",
       "   'uid text'],\n",
       "  't_llm_model': ['id text NOT NULL',\n",
       "   'name text NOT NULL',\n",
       "   'url text',\n",
       "   'description text',\n",
       "   'tags text',\n",
       "   'ts text',\n",
       "   'uid text']}}"
      ]
     },
     "execution_count": 2,
     "metadata": {},
     "output_type": "execute_result"
    }
   ],
   "source": [
    "CFG"
   ]
  },
  {
   "cell_type": "code",
   "execution_count": 3,
   "id": "534ba58e",
   "metadata": {},
   "outputs": [
    {
     "data": {
      "text/plain": [
       "dict_items([('t_chats', ['id text NOT NULL', 'session_title text NOT NULL', 'bot_name text NOT NULL', 'seq_num text', 'question text', 'answer text', 'topic text', 'tags text', 'ts text', 'uid text']), ('t_llm_model', ['id text NOT NULL', 'name text NOT NULL', 'url text', 'description text', 'tags text', 'ts text', 'uid text'])])"
      ]
     },
     "execution_count": 3,
     "metadata": {},
     "output_type": "execute_result"
    }
   ],
   "source": [
    "CFG[\"TABLES\"].items()"
   ]
  },
  {
   "cell_type": "code",
   "execution_count": 5,
   "id": "a3a2483a",
   "metadata": {},
   "outputs": [
    {
     "data": {
      "text/plain": [
       "['id text NOT NULL',\n",
       " 'session_title text NOT NULL',\n",
       " 'bot_name text NOT NULL',\n",
       " 'seq_num text',\n",
       " 'question text',\n",
       " 'answer text',\n",
       " 'topic text',\n",
       " 'tags text',\n",
       " 'ts text',\n",
       " 'uid text']"
      ]
     },
     "execution_count": 5,
     "metadata": {},
     "output_type": "execute_result"
    }
   ],
   "source": [
    "CFG[\"TABLES\"][CFG[\"TABLE_CHATS\"]]"
   ]
  },
  {
   "cell_type": "code",
   "execution_count": null,
   "id": "b6721c6b",
   "metadata": {},
   "outputs": [],
   "source": []
  },
  {
   "cell_type": "code",
   "execution_count": null,
   "id": "c898caee",
   "metadata": {},
   "outputs": [],
   "source": []
  },
  {
   "cell_type": "code",
   "execution_count": null,
   "id": "4f7a3314",
   "metadata": {},
   "outputs": [],
   "source": []
  },
  {
   "cell_type": "code",
   "execution_count": null,
   "id": "c65ec2f6",
   "metadata": {},
   "outputs": [],
   "source": []
  },
  {
   "cell_type": "code",
   "execution_count": null,
   "id": "a50e1553",
   "metadata": {},
   "outputs": [],
   "source": []
  },
  {
   "cell_type": "code",
   "execution_count": 17,
   "id": "8c936c7d",
   "metadata": {},
   "outputs": [
    {
     "name": "stdout",
     "output_type": "stream",
     "text": [
      "\n",
      "create table if not exists t_chats \n",
      "(\n",
      "        id text NOT NULL,\n",
      "\tsession_title text NOT NULL,\n",
      "\tbot_name text NOT NULL,\n",
      "\tseq_num text,\n",
      "\tquestion text,\n",
      "\tanswer text,\n",
      "\ttopic text,\n",
      "\ttags text,\n",
      "\tts text,\n",
      "\tuid text\n",
      ");\n",
      "\n"
     ]
    }
   ],
   "source": [
    "table_name = CFG[\"TABLE_CHATS\"]\n",
    "cols = CFG[\"TABLES\"][table_name]\n",
    "t_cols = \",\\n\\t\".join(cols) \n",
    "sql_create = f\"\"\"\n",
    "create table if not exists {table_name} \n",
    "(\n",
    "        {t_cols}\n",
    ");\n",
    "\"\"\"\n",
    "print(sql_create)"
   ]
  },
  {
   "cell_type": "code",
   "execution_count": 7,
   "id": "8a6695e2",
   "metadata": {},
   "outputs": [
    {
     "ename": "AttributeError",
     "evalue": "'list' object has no attribute 'split'",
     "output_type": "error",
     "traceback": [
      "\u001b[1;31m---------------------------------------------------------------------------\u001b[0m",
      "\u001b[1;31mAttributeError\u001b[0m                            Traceback (most recent call last)",
      "\u001b[1;32m~\\AppData\\Local\\Temp\\ipykernel_13696\\183342691.py\u001b[0m in \u001b[0;36m<module>\u001b[1;34m\u001b[0m\n\u001b[0;32m      1\u001b[0m \u001b[0mt\u001b[0m \u001b[1;33m=\u001b[0m \u001b[0mCFG\u001b[0m\u001b[1;33m[\u001b[0m\u001b[1;34m\"TABLES\"\u001b[0m\u001b[1;33m]\u001b[0m\u001b[1;33m[\u001b[0m\u001b[0mCFG\u001b[0m\u001b[1;33m[\u001b[0m\u001b[1;34m\"TABLE_CHATS\"\u001b[0m\u001b[1;33m]\u001b[0m\u001b[1;33m]\u001b[0m\u001b[1;33m\u001b[0m\u001b[1;33m\u001b[0m\u001b[0m\n\u001b[1;32m----> 2\u001b[1;33m \u001b[1;33m[\u001b[0m\u001b[0mi\u001b[0m\u001b[1;33m.\u001b[0m\u001b[0mstrip\u001b[0m\u001b[1;33m(\u001b[0m\u001b[1;33m)\u001b[0m\u001b[1;33m.\u001b[0m\u001b[0mreplace\u001b[0m\u001b[1;33m(\u001b[0m\u001b[1;34m\",\"\u001b[0m\u001b[1;33m,\u001b[0m \u001b[1;34m\"\"\u001b[0m\u001b[1;33m)\u001b[0m \u001b[1;32mfor\u001b[0m \u001b[0mi\u001b[0m \u001b[1;32min\u001b[0m \u001b[0mt\u001b[0m\u001b[1;33m.\u001b[0m\u001b[0msplit\u001b[0m\u001b[1;33m(\u001b[0m\u001b[1;34m\"\\n\"\u001b[0m\u001b[1;33m)\u001b[0m \u001b[1;32mif\u001b[0m \u001b[0mi\u001b[0m\u001b[1;33m.\u001b[0m\u001b[0mstrip\u001b[0m\u001b[1;33m(\u001b[0m\u001b[1;33m)\u001b[0m\u001b[1;33m]\u001b[0m\u001b[1;33m\u001b[0m\u001b[1;33m\u001b[0m\u001b[0m\n\u001b[0m",
      "\u001b[1;31mAttributeError\u001b[0m: 'list' object has no attribute 'split'"
     ]
    }
   ],
   "source": [
    "# [i.strip().replace(\",\", \"\") for i in t.split(\"\\n\") if i.strip()]"
   ]
  },
  {
   "cell_type": "code",
   "execution_count": null,
   "id": "e2eed17d",
   "metadata": {},
   "outputs": [],
   "source": []
  }
 ],
 "metadata": {
  "kernelspec": {
   "display_name": "Python 3 (ipykernel)",
   "language": "python",
   "name": "python3"
  },
  "language_info": {
   "codemirror_mode": {
    "name": "ipython",
    "version": 3
   },
   "file_extension": ".py",
   "mimetype": "text/x-python",
   "name": "python",
   "nbconvert_exporter": "python",
   "pygments_lexer": "ipython3",
   "version": "3.9.13"
  },
  "nbTranslate": {
   "displayLangs": [
    "*"
   ],
   "hotkey": "alt-t",
   "langInMainMenu": true,
   "sourceLang": "en",
   "targetLang": "fr",
   "useGoogleTranslate": true
  },
  "toc": {
   "base_numbering": 1,
   "nav_menu": {},
   "number_sections": true,
   "sideBar": true,
   "skip_h1_title": false,
   "title_cell": "Table of Contents",
   "title_sidebar": "Contents",
   "toc_cell": false,
   "toc_position": {},
   "toc_section_display": true,
   "toc_window_display": false
  }
 },
 "nbformat": 4,
 "nbformat_minor": 5
}
